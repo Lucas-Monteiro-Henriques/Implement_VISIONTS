{
  "nbformat": 4,
  "nbformat_minor": 0,
  "metadata": {
    "colab": {
      "provenance": [],
      "gpuType": "T4",
      "authorship_tag": "ABX9TyNvoqBjBuDJZ44uuLK4QT6J",
      "include_colab_link": true
    },
    "kernelspec": {
      "name": "python3",
      "display_name": "Python 3"
    },
    "language_info": {
      "name": "python"
    },
    "accelerator": "GPU"
  },
  "cells": [
    {
      "cell_type": "markdown",
      "metadata": {
        "id": "view-in-github",
        "colab_type": "text"
      },
      "source": [
        "<a href=\"https://colab.research.google.com/github/Lucas-Monteiro-Henriques/Implement_VISIONTS/blob/main/MAE.ipynb\" target=\"_parent\"><img src=\"https://colab.research.google.com/assets/colab-badge.svg\" alt=\"Open In Colab\"/></a>"
      ]
    },
    {
      "cell_type": "markdown",
      "source": [
        "Importei MAE do Facebook"
      ],
      "metadata": {
        "id": "ehdJj1mTcBy-"
      }
    },
    {
      "cell_type": "code",
      "source": [
        "import sys\n",
        "import os\n",
        "import requests\n",
        "\n",
        "import torch\n",
        "import numpy as np\n",
        "np.float = float\n",
        "\n",
        "import matplotlib.pyplot as plt\n",
        "from PIL import Image\n",
        "\n",
        "# check whether run in Colab\n",
        "if 'google.colab' in sys.modules:\n",
        "    print('Running in Colab.')\n",
        "    !pip3 install timm==0.4.5  # 0.3.2 does not work in Colab\n",
        "    !git clone https://github.com/facebookresearch/mae.git\n",
        "    sys.path.append('./mae')\n",
        "else:\n",
        "    sys.path.append('..')\n",
        "from models_mae import mae_vit_base_patch16\n",
        "model = mae_vit_base_patch16()\n"
      ],
      "metadata": {
        "colab": {
          "base_uri": "https://localhost:8080/"
        },
        "id": "17N5CayCl1Fj",
        "outputId": "28dc9f58-586e-4128-aba5-ea37f5534221",
        "collapsed": true
      },
      "execution_count": null,
      "outputs": [
        {
          "output_type": "stream",
          "name": "stdout",
          "text": [
            "Running in Colab.\n",
            "Requirement already satisfied: timm==0.4.5 in /usr/local/lib/python3.11/dist-packages (0.4.5)\n",
            "Requirement already satisfied: torch>=1.4 in /usr/local/lib/python3.11/dist-packages (from timm==0.4.5) (2.6.0+cu124)\n",
            "Requirement already satisfied: torchvision in /usr/local/lib/python3.11/dist-packages (from timm==0.4.5) (0.21.0+cu124)\n",
            "Requirement already satisfied: filelock in /usr/local/lib/python3.11/dist-packages (from torch>=1.4->timm==0.4.5) (3.18.0)\n",
            "Requirement already satisfied: typing-extensions>=4.10.0 in /usr/local/lib/python3.11/dist-packages (from torch>=1.4->timm==0.4.5) (4.14.1)\n",
            "Requirement already satisfied: networkx in /usr/local/lib/python3.11/dist-packages (from torch>=1.4->timm==0.4.5) (3.5)\n",
            "Requirement already satisfied: jinja2 in /usr/local/lib/python3.11/dist-packages (from torch>=1.4->timm==0.4.5) (3.1.6)\n",
            "Requirement already satisfied: fsspec in /usr/local/lib/python3.11/dist-packages (from torch>=1.4->timm==0.4.5) (2025.7.0)\n",
            "Requirement already satisfied: nvidia-cuda-nvrtc-cu12==12.4.127 in /usr/local/lib/python3.11/dist-packages (from torch>=1.4->timm==0.4.5) (12.4.127)\n",
            "Requirement already satisfied: nvidia-cuda-runtime-cu12==12.4.127 in /usr/local/lib/python3.11/dist-packages (from torch>=1.4->timm==0.4.5) (12.4.127)\n",
            "Requirement already satisfied: nvidia-cuda-cupti-cu12==12.4.127 in /usr/local/lib/python3.11/dist-packages (from torch>=1.4->timm==0.4.5) (12.4.127)\n",
            "Requirement already satisfied: nvidia-cudnn-cu12==9.1.0.70 in /usr/local/lib/python3.11/dist-packages (from torch>=1.4->timm==0.4.5) (9.1.0.70)\n",
            "Requirement already satisfied: nvidia-cublas-cu12==12.4.5.8 in /usr/local/lib/python3.11/dist-packages (from torch>=1.4->timm==0.4.5) (12.4.5.8)\n",
            "Requirement already satisfied: nvidia-cufft-cu12==11.2.1.3 in /usr/local/lib/python3.11/dist-packages (from torch>=1.4->timm==0.4.5) (11.2.1.3)\n",
            "Requirement already satisfied: nvidia-curand-cu12==10.3.5.147 in /usr/local/lib/python3.11/dist-packages (from torch>=1.4->timm==0.4.5) (10.3.5.147)\n",
            "Requirement already satisfied: nvidia-cusolver-cu12==11.6.1.9 in /usr/local/lib/python3.11/dist-packages (from torch>=1.4->timm==0.4.5) (11.6.1.9)\n",
            "Requirement already satisfied: nvidia-cusparse-cu12==12.3.1.170 in /usr/local/lib/python3.11/dist-packages (from torch>=1.4->timm==0.4.5) (12.3.1.170)\n",
            "Requirement already satisfied: nvidia-cusparselt-cu12==0.6.2 in /usr/local/lib/python3.11/dist-packages (from torch>=1.4->timm==0.4.5) (0.6.2)\n",
            "Requirement already satisfied: nvidia-nccl-cu12==2.21.5 in /usr/local/lib/python3.11/dist-packages (from torch>=1.4->timm==0.4.5) (2.21.5)\n",
            "Requirement already satisfied: nvidia-nvtx-cu12==12.4.127 in /usr/local/lib/python3.11/dist-packages (from torch>=1.4->timm==0.4.5) (12.4.127)\n",
            "Requirement already satisfied: nvidia-nvjitlink-cu12==12.4.127 in /usr/local/lib/python3.11/dist-packages (from torch>=1.4->timm==0.4.5) (12.4.127)\n",
            "Requirement already satisfied: triton==3.2.0 in /usr/local/lib/python3.11/dist-packages (from torch>=1.4->timm==0.4.5) (3.2.0)\n",
            "Requirement already satisfied: sympy==1.13.1 in /usr/local/lib/python3.11/dist-packages (from torch>=1.4->timm==0.4.5) (1.13.1)\n",
            "Requirement already satisfied: mpmath<1.4,>=1.1.0 in /usr/local/lib/python3.11/dist-packages (from sympy==1.13.1->torch>=1.4->timm==0.4.5) (1.3.0)\n",
            "Requirement already satisfied: numpy in /usr/local/lib/python3.11/dist-packages (from torchvision->timm==0.4.5) (2.0.2)\n",
            "Requirement already satisfied: pillow!=8.3.*,>=5.3.0 in /usr/local/lib/python3.11/dist-packages (from torchvision->timm==0.4.5) (11.3.0)\n",
            "Requirement already satisfied: MarkupSafe>=2.0 in /usr/local/lib/python3.11/dist-packages (from jinja2->torch>=1.4->timm==0.4.5) (3.0.2)\n",
            "fatal: destination path 'mae' already exists and is not an empty directory.\n"
          ]
        }
      ]
    },
    {
      "cell_type": "markdown",
      "source": [
        "Implementação do Algoritmo de transformação das séries temporais 1D para 2D"
      ],
      "metadata": {
        "id": "mJkWKZa2SIlZ"
      }
    },
    {
      "cell_type": "code",
      "source": [
        "import numpy as np\n",
        "import matplotlib.pyplot as plt\n",
        "from statsmodels.tsa.stattools import acf\n",
        "from scipy.signal import find_peaks\n",
        "import pandas as pd\n",
        "\n",
        "df = pd.read_csv(\"https://github.com/zhouhaoyi/ETDataset/raw/main/ETT-small/ETTm1.csv\")\n",
        "\n",
        "\n",
        "serie = df[\"OT\"].values[:512]\n",
        "\n",
        "acf_vals = acf(serie, nlags=min(50, len(serie)//2), fft=True)\n",
        "\n",
        "lags = np.arange(1, len(acf_vals))\n",
        "acf_sem_lag0 = acf_vals[1:]\n",
        "peaks, _ = find_peaks(acf_sem_lag0, height=0.2)\n",
        "\n",
        "if len(peaks) == 0:\n",
        "    P = 1\n",
        "else:\n",
        "    P = peaks[0] + 1\n",
        "\n",
        "print(f\"Periodicidade estimada: {P}\")\n",
        "\n",
        "L = (len(serie) // P) * P\n",
        "serie_cortada = serie[:L]\n",
        "\n",
        "\n",
        "matriz_2d = serie_cortada.reshape(P, L // P)\n",
        "print(\"Matriz 2D:\\n\", matriz_2d)\n"
      ],
      "metadata": {
        "id": "s5FCRay9rHvw",
        "colab": {
          "base_uri": "https://localhost:8080/"
        },
        "outputId": "a3c2222c-9f14-4602-9ed9-e7713c909da2",
        "collapsed": true
      },
      "execution_count": null,
      "outputs": [
        {
          "output_type": "stream",
          "name": "stdout",
          "text": [
            "Periodicidade estimada: 29\n",
            "Matriz 2D:\n",
            " [[30.53100014 30.45999908 30.03800011 27.01300049 27.78700066 27.71699905\n",
            "  27.64599991 27.08399963 27.78700066 27.50600052 27.85700035 27.01300049\n",
            "  25.04400063 24.5510006  23.56599998 21.52599907 21.94799995]\n",
            " [21.45599937 22.79199982 21.0340004  21.17399979 20.82299995 21.17399979\n",
            "  21.17399979 22.79199982 23.84799957 24.34000015 23.1439991  23.1439991\n",
            "  23.77700043 23.84799957 23.98800087 21.66699982 22.0890007 ]\n",
            " [22.37000084 16.39100075 17.44599915 17.72699928 18.50099945 19.27499962\n",
            "  19.97900009 18.50099945 18.5720005  19.41600037 20.11899948 19.76799965\n",
            "  19.76799965 20.32999992 19.20499992 17.72699928 18.6420002 ]\n",
            " [18.50099945 18.5720005  19.6970005  19.55599976 19.83799934 19.55599976\n",
            "  19.41600037 19.13400078 17.02400017 17.30500031 18.78300095 18.85300064\n",
            "  19.20499992 19.48600006 19.62700081 18.43099976 19.76799965]\n",
            " [19.13400078 20.75200081 19.76799965 20.68199921 20.68199921 19.83799934\n",
            "  19.20499992 19.41600037 18.71199989 17.86800003 18.21999931 18.50099945\n",
            "  17.86800003 18.21999931 17.86800003 17.86800003 18.00900078]\n",
            " [18.36100006 18.6420002  18.00900078 18.00900078 17.58699989 18.29000092\n",
            "  19.41600037 19.76799965 20.75200081 21.31500053 21.87800026 21.10400009\n",
            "  21.10400009 21.38500023 21.17399979 19.6970005  20.54100037]\n",
            " [19.76799965 19.83799934 20.04899979 21.0340004  19.97900009 20.32999992\n",
            "  20.75200081 20.47100067 21.17399979 20.82299995 21.38500023 21.0340004\n",
            "  20.89299965 20.75200081 22.22999954 21.17399979 20.40099907]\n",
            " [20.26000023 20.26000023 19.13400078 20.32999992 20.89299965 21.10400009\n",
            "  19.27499962 19.06399918 20.26000023 20.61199951 18.85300064 19.6970005\n",
            "  18.21999931 18.36100006 19.27499962 21.31500053 21.52599907]\n",
            " [20.96299934 19.06399918 18.21999931 19.27499962 19.41600037 19.97900009\n",
            "  21.17399979 21.0340004  20.82299995 20.47100067 20.96299934 21.52599907\n",
            "  20.19000053 18.36100006 18.6420002  20.47100067 21.31500053]\n",
            " [21.66699982 20.54100037 21.80800056 22.0189991  21.52599907 20.47100067\n",
            "  20.11899948 20.68199921 22.22999954 23.70700073 24.97299957 25.4659996\n",
            "  25.81699944 26.02799988 26.02799988 25.88800049 26.30999947]\n",
            " [27.64599991 27.29500008 27.85700035 27.71699905 27.64599991 27.71699905\n",
            "  27.29500008 26.73200035 24.05900002 22.93300056 22.22999954 22.0890007\n",
            "  21.73699951 21.17399979 21.94799995 23.63699913 25.25499916]\n",
            " [26.66200066 27.29500008 28.13899994 28.35000038 29.0529995  29.33499908\n",
            "  28.77199936 27.50600052 26.16900063 26.02799988 25.95800018 26.09900093\n",
            "  25.95800018 24.34000015 22.72200012 22.93300056 24.83200073]\n",
            " [26.45000076 27.01300049 27.36499977 26.45000076 25.95800018 25.18400002\n",
            "  24.62100029 24.12899971 24.05900002 24.40999985 24.5510006  25.32500076\n",
            "  25.32500076 25.39500046 25.39500046 24.40999985 23.63699913]\n",
            " [22.72200012 24.62100029 26.45000076 26.37999916 26.30999947 27.99799919\n",
            "  28.91300011 27.36499977 26.02799988 25.25499916 27.15399933 28.06800079\n",
            "  29.47500038 30.81200027 30.17900085 29.47500038 27.85700035]\n",
            " [25.95800018 25.6060009  26.80200005 27.15399933 28.77199936 29.40500069\n",
            "  29.96800041 30.03800011 29.96800041 29.96800041 30.38999939 30.81200027\n",
            "  31.375      31.375      31.16399956 30.31999969 29.47500038]\n",
            " [29.47500038 29.75699997 30.03800011 30.03800011 31.16399956 32.28900146\n",
            "  32.07799911 31.58600044 32.99300003 31.93799973 32.5        32.36000061\n",
            "  31.44499969 28.56100082 24.90299988 23.84799957 23.70700073]\n",
            " [21.52599907 21.94799995 20.32999992 20.61199951 22.22999954 21.38500023\n",
            "  20.40099907 19.97900009 19.41600037 18.43099976 18.21999931 18.43099976\n",
            "  18.5720005  18.00900078 18.71199989 19.34499931 21.66699982]\n",
            " [24.4810009  25.88800049 25.95800018 25.5359993  27.71699905 29.12400055\n",
            "  28.70199966 27.85700035 28.06800079 28.91300011 28.9829998  27.9279995\n",
            "  28.06800079 27.64599991 24.97299957 24.62100029 24.83200073]\n",
            " [24.69199944 24.34000015 23.84799957 23.4260006  21.87800026 23.4260006\n",
            "  23.0739994  21.80800056 23.0739994  21.94799995 22.51099968 21.38500023\n",
            "  21.52599907 21.17399979 21.66699982 22.51099968 23.56599998]\n",
            " [24.4810009  25.39500046 23.84799957 25.32500076 24.5510006  25.18400002\n",
            "  27.64599991 29.0529995  28.35000038 29.54599953 30.38999939 31.58600044\n",
            "  30.60099983 29.47500038 27.85700035 29.12400055 29.61599922]\n",
            " [29.26399994 28.77199936 30.03800011 30.31999969 30.95299911 30.74200058\n",
            "  31.02300072 31.16399956 31.72599983 31.375      31.79700089 32.57099915\n",
            "  33.13299942 33.20399857 32.7820015  31.02300072 28.9829998 ]\n",
            " [28.77199936 28.49099922 28.27899933 28.9829998  29.61599922 30.03800011\n",
            "  31.58600044 31.72599983 31.44499969 30.60099983 29.89699936 25.18400002\n",
            "  26.45000076 27.9279995  29.47500038 30.53100014 29.54599953]\n",
            " [30.17900085 29.26399994 27.64599991 23.84799957 22.22999954 23.98800087\n",
            "  25.4659996  26.37999916 25.88800049 26.30999947 25.95800018 26.30999947\n",
            "  27.36499977 27.71699905 25.95800018 25.04400063 24.97299957]\n",
            " [25.74699974 26.02799988 26.66200066 26.73200035 27.9279995  28.91300011\n",
            "  29.19400024 30.24900055 30.67099953 30.45999908 30.31999969 30.53100014\n",
            "  31.72599983 31.375      31.65600014 31.58600044 32.21900177]\n",
            " [32.7820015  32.21900177 32.71099854 32.71099854 31.72599983 31.51499939\n",
            "  30.45999908 31.30400085 30.31999969 29.33499908 29.68600082 29.68600082\n",
            "  30.45999908 32.64099884 33.13299942 33.41500092 32.92200089]\n",
            " [32.7820015  32.71099854 32.5        31.09300041 29.89699936 28.27899933\n",
            "  26.09900093 25.67700005 26.16900063 25.6060009  26.66200066 27.15399933\n",
            "  27.29500008 24.97299957 27.29500008 28.77199936 28.42000008]\n",
            " [29.47500038 31.09300041 30.60099983 31.16399956 31.30400085 31.72599983\n",
            "  32.00799942 31.72599983 31.86700058 32.85200119 33.13299942 33.06299973\n",
            "  31.86700058 32.21900177 31.51499939 31.79700089 31.93799973]\n",
            " [32.36000061 31.02300072 31.375      31.375      31.375      31.44499969\n",
            "  31.23399925 30.88199997 31.65600014 31.72599983 30.88199997 30.31999969\n",
            "  30.53100014 30.95299911 31.44499969 31.16399956 30.74200058]\n",
            " [30.45999908 30.45999908 29.75699997 29.12400055 28.91300011 29.19400024\n",
            "  28.91300011 29.96800041 30.38999939 30.67099953 30.74200058 31.23399925\n",
            "  31.51499939 30.38999939 30.31999969 30.95299911 31.23399925]]\n"
          ]
        }
      ]
    },
    {
      "cell_type": "markdown",
      "source": [
        "Normalization do Iraw\n"
      ],
      "metadata": {
        "id": "m6r3OzOrc2xn"
      }
    },
    {
      "cell_type": "code",
      "source": [
        "import numpy as np\n",
        "from statistics import mean\n",
        "desvio_padrao = np.std(matriz_2d)\n",
        "print(desvio_padrao)\n",
        "mean  = np.mean(matriz_2d)\n",
        "print(mean)"
      ],
      "metadata": {
        "colab": {
          "base_uri": "https://localhost:8080/"
        },
        "id": "X1CPDb_UUBVR",
        "outputId": "bcb032e2-2fa2-400a-8eee-6989d9a6d6f1"
      },
      "execution_count": null,
      "outputs": [
        {
          "output_type": "stream",
          "name": "stdout",
          "text": [
            "4.647547551956378\n",
            "25.519399588780278\n"
          ]
        }
      ]
    },
    {
      "cell_type": "code",
      "source": [
        "r = 0.4\n",
        "Inorm = r * (matriz_2d - mean)/ desvio_padrao\n",
        "print(Inorm)"
      ],
      "metadata": {
        "colab": {
          "base_uri": "https://localhost:8080/"
        },
        "id": "jyKVebIsS6Hs",
        "outputId": "b4c43ffa-029a-408c-8cd8-f4086cf1d272",
        "collapsed": true
      },
      "execution_count": null,
      "outputs": [
        {
          "output_type": "stream",
          "name": "stdout",
          "text": [
            "[[ 0.43133291  0.42522207  0.38890193  0.1285496   0.19516539  0.18914057\n",
            "   0.18302989  0.13466027  0.19516539  0.17098058  0.20119005  0.1285496\n",
            "  -0.04091611 -0.0833471  -0.16812304 -0.34369959 -0.30737929]\n",
            " [-0.34972425 -0.23473884 -0.38604439 -0.37399508 -0.40420455 -0.37399508\n",
            "  -0.37399508 -0.23473884 -0.14385221 -0.10150725 -0.20444335 -0.20444335\n",
            "  -0.14996289 -0.14385221 -0.13180274 -0.3315641  -0.29524379]\n",
            " [-0.27105898 -0.78565297 -0.69485253 -0.67066772 -0.60405193 -0.53743613\n",
            "  -0.476845   -0.60405193 -0.59794109 -0.52530064 -0.46479568 -0.49500515\n",
            "  -0.49500515 -0.44663553 -0.54346079 -0.67066772 -0.59191643]\n",
            " [-0.60405193 -0.59794109 -0.50111583 -0.51325132 -0.48898049 -0.51325132\n",
            "  -0.52530064 -0.54957147 -0.73117267 -0.70698786 -0.57978093 -0.57375628\n",
            "  -0.54346079 -0.51927598 -0.50714048 -0.61007658 -0.49500515]\n",
            " [-0.54957147 -0.41031522 -0.49500515 -0.41634004 -0.41634004 -0.48898049\n",
            "  -0.54346079 -0.52530064 -0.58589177 -0.65853222 -0.62823674 -0.60405193\n",
            "  -0.65853222 -0.62823674 -0.65853222 -0.65853222 -0.64639673]\n",
            " [-0.61610124 -0.59191643 -0.64639673 -0.64639673 -0.68271703 -0.62221192\n",
            "  -0.52530064 -0.49500515 -0.41031522 -0.36185958 -0.31340394 -0.38001974\n",
            "  -0.38001974 -0.35583493 -0.37399508 -0.50111583 -0.42847538]\n",
            " [-0.49500515 -0.48898049 -0.47082034 -0.38604439 -0.476845   -0.44663553\n",
            "  -0.41031522 -0.43450003 -0.37399508 -0.40420455 -0.35583493 -0.38604439\n",
            "  -0.39817989 -0.41031522 -0.28310846 -0.37399508 -0.44052485]\n",
            " [-0.45266019 -0.45266019 -0.54957147 -0.44663553 -0.39817989 -0.38001974\n",
            "  -0.53743613 -0.55559629 -0.45266019 -0.4223647  -0.57375628 -0.50111583\n",
            "  -0.62823674 -0.61610124 -0.53743613 -0.36185958 -0.34369959]\n",
            " [-0.39215523 -0.55559629 -0.62823674 -0.53743613 -0.52530064 -0.476845\n",
            "  -0.37399508 -0.38604439 -0.40420455 -0.43450003 -0.39215523 -0.34369959\n",
            "  -0.45868484 -0.61610124 -0.59191643 -0.43450003 -0.36185958]\n",
            " [-0.3315641  -0.42847538 -0.3194286  -0.30126861 -0.34369959 -0.43450003\n",
            "  -0.46479568 -0.41634004 -0.28310846 -0.15598755 -0.04702695 -0.00459597\n",
            "   0.0256135   0.04377365  0.04377365  0.03172434  0.06804448]\n",
            " [ 0.18302989  0.15282043  0.20119005  0.18914057  0.18302989  0.18914057\n",
            "   0.15282043  0.10436479 -0.12569206 -0.22260334 -0.28310846 -0.29524379\n",
            "  -0.32553944 -0.37399508 -0.30737929 -0.16201237 -0.02275612]\n",
            " [ 0.09834013  0.15282043  0.22546088  0.24362103  0.30412598  0.32839681\n",
            "   0.27994117  0.17098058  0.05590915  0.04377365  0.03774899  0.04988449\n",
            "   0.03774899 -0.10150725 -0.24076349 -0.22260334 -0.05916229]\n",
            " [ 0.08009396  0.1285496   0.15884508  0.08009396  0.03774899 -0.0288668\n",
            "  -0.07732244 -0.1196674  -0.12569206 -0.09548259 -0.0833471  -0.0167313\n",
            "  -0.0167313  -0.01070665 -0.01070665 -0.09548259 -0.16201237]\n",
            " [-0.24076349 -0.07732244  0.08009396  0.07406914  0.06804448  0.21332538\n",
            "   0.29207667  0.15884508  0.04377365 -0.02275612  0.14068493  0.2193502\n",
            "   0.34044629  0.45551772  0.40103743  0.34044629  0.20119005]\n",
            " [ 0.03774899  0.00745351  0.11038944  0.14068493  0.27994117  0.33442163\n",
            "   0.38287727  0.38890193  0.38287727  0.38287727  0.41919742  0.45551772\n",
            "   0.50397336  0.50397336  0.48581321  0.41317276  0.34044629]\n",
            " [ 0.34044629  0.36471712  0.38890193  0.38890193  0.48581321  0.58263863\n",
            "   0.56447831  0.52213352  0.64322961  0.552429    0.60079862  0.58874931\n",
            "   0.50999802  0.26178118 -0.05305161 -0.14385221 -0.15598755]\n",
            " [-0.34369959 -0.30737929 -0.44663553 -0.4223647  -0.28310846 -0.35583493\n",
            "  -0.44052485 -0.476845   -0.52530064 -0.61007658 -0.62823674 -0.61007658\n",
            "  -0.59794109 -0.64639673 -0.58589177 -0.53141148 -0.3315641 ]\n",
            " [-0.08937175  0.03172434  0.03774899  0.00142869  0.18914057  0.31023682\n",
            "   0.27391652  0.20119005  0.2193502   0.29207667  0.29810133  0.20730072\n",
            "   0.2193502   0.18302989 -0.04702695 -0.07732244 -0.05916229]\n",
            " [-0.07121176 -0.10150725 -0.14385221 -0.18017236 -0.31340394 -0.18017236\n",
            "  -0.21046801 -0.3194286  -0.21046801 -0.30737929 -0.25892365 -0.35583493\n",
            "  -0.34369959 -0.37399508 -0.3315641  -0.25892365 -0.16812304]\n",
            " [-0.08937175 -0.01070665 -0.14385221 -0.0167313  -0.0833471  -0.0288668\n",
            "   0.18302989  0.30412598  0.24362103  0.34655697  0.41919742  0.52213352\n",
            "   0.43735757  0.34044629  0.20119005  0.31023682  0.35258162]\n",
            " [ 0.32228614  0.27994117  0.38890193  0.41317276  0.46765305  0.44949307\n",
            "   0.47367788  0.48581321  0.53418283  0.50397336  0.54029367  0.6069093\n",
            "   0.65527892  0.66138959  0.62506962  0.47367788  0.29810133]\n",
            " [ 0.27994117  0.25575636  0.23751019  0.29810133  0.35258162  0.38890193\n",
            "   0.52213352  0.53418283  0.50999802  0.43735757  0.37676643 -0.0288668\n",
            "   0.08009396  0.20730072  0.34044629  0.43133291  0.34655697]\n",
            " [ 0.40103743  0.32228614  0.18302989 -0.14385221 -0.28310846 -0.13180274\n",
            "  -0.00459597  0.07406914  0.03172434  0.06804448  0.03774899  0.06804448\n",
            "   0.15884508  0.18914057  0.03774899 -0.04091611 -0.04702695]\n",
            " [ 0.01958884  0.04377365  0.09834013  0.10436479  0.20730072  0.29207667\n",
            "   0.31626148  0.40706208  0.44338223  0.42522207  0.41317276  0.43133291\n",
            "   0.53418283  0.50397336  0.52815817  0.52213352  0.57661398]\n",
            " [ 0.62506962  0.57661398  0.61895861  0.61895861  0.53418283  0.51602268\n",
            "   0.42522207  0.49786269  0.41317276  0.32839681  0.35860644  0.35860644\n",
            "   0.42522207  0.61293395  0.65527892  0.67954991  0.63711893]\n",
            " [ 0.62506962  0.61895861  0.60079862  0.47970253  0.37676643  0.23751019\n",
            "   0.04988449  0.01356418  0.05590915  0.00745351  0.09834013  0.14068493\n",
            "   0.15282043 -0.04702695  0.15282043  0.27994117  0.24964569]\n",
            " [ 0.34044629  0.47970253  0.43735757  0.48581321  0.49786269  0.53418283\n",
            "   0.55845366  0.53418283  0.54631833  0.63109427  0.65527892  0.64925426\n",
            "   0.54631833  0.57661398  0.51602268  0.54029367  0.552429  ]\n",
            " [ 0.58874931  0.47367788  0.50397336  0.50397336  0.50397336  0.50999802\n",
            "   0.49183786  0.46154238  0.52815817  0.53418283  0.46154238  0.41317276\n",
            "   0.43133291  0.46765305  0.50999802  0.48581321  0.44949307]\n",
            " [ 0.42522207  0.42522207  0.36471712  0.31023682  0.29207667  0.31626148\n",
            "   0.29207667  0.38287727  0.41919742  0.44338223  0.44949307  0.49183786\n",
            "   0.51602268  0.41919742  0.41317276  0.46765305  0.49183786]]\n"
          ]
        }
      ]
    },
    {
      "cell_type": "markdown",
      "source": [
        "Esse é o algorimo do Alignment, mas não foi testado, pois o MAE do Facebook precisa ser alterado na parte da mascara\n"
      ],
      "metadata": {
        "id": "cwigDzq7eHF6"
      }
    },
    {
      "cell_type": "code",
      "source": [
        "import numpy as np\n",
        "from skimage.transform import resize\n",
        "import matplotlib.pyplot as plt\n",
        "\n",
        "\n",
        "L = 300\n",
        "H = 100\n",
        "c = 0.4\n",
        "S = 1\n",
        "N = max(Inorm.shape)\n",
        "\n",
        "# Etapa 1: Render Igray (imagem 3 canais iguais)\n",
        "Igray = np.stack([Inorm] * 3, axis=-1)\n",
        "\n",
        "# Etapa 2: Alignment\n",
        "n = int(np.floor(c * N * L / (L + H)))  # número de patches visíveis na horizontal\n",
        "target_shape = (N * S, n * S)           # shape final da imagem após resize\n",
        "\n",
        "# Resize Igray (mantendo apenas 1 canal para simplificar o MAE)\n",
        "Igray_resized = resize(Inorm, target_shape, order=1, mode='reflect', anti_aliasing=False)\n",
        "\n",
        "# Converter para imagem 3 canais (opcional, dependendo do input do MAE)\n",
        "Igray_resized_3ch = np.stack([Igray_resized] * 3, axis=-1)\n",
        "\n",
        "# Visualização\n",
        "plt.imshow(Igray_resized, cmap='gray', aspect='auto')\n",
        "plt.title(\"Igray redimensionado para Alignment (VisionTS)\")\n",
        "plt.colorbar()\n",
        "plt.show()\n",
        "\n",
        "# Print das formas para verificação\n",
        "print(\"Shape original Inorm:\", Inorm.shape)\n",
        "print(\"Shape Igray:\", Igray.shape)\n",
        "print(\"Shape Igray_resized:\", Igray_resized.shape)\n",
        "print(\"Shape Igray_resized_3ch:\", Igray_resized_3ch.shape)\n"
      ],
      "metadata": {
        "colab": {
          "base_uri": "https://localhost:8080/",
          "height": 525
        },
        "id": "TTUSyf8uY_Vo",
        "outputId": "76d7b1ae-1542-4b6d-fbc8-62c2067e7086",
        "collapsed": true
      },
      "execution_count": null,
      "outputs": [
        {
          "output_type": "display_data",
          "data": {
            "text/plain": [
              "<Figure size 640x480 with 2 Axes>"
            ],
            "image/png": "[encoded data removed]"
          },
          "metadata": {}
        },
        {
          "output_type": "stream",
          "name": "stdout",
          "text": [
            "Shape original Inorm: (29, 17)\n",
            "Shape Igray: (29, 17, 3)\n",
            "Shape Igray_resized: (29, 8)\n",
            "Shape Igray_resized_3ch: (29, 8, 3)\n"
          ]
        }
      ]
    },
    {
      "cell_type": "markdown",
      "source": [
        "Funções do MAE"
      ],
      "metadata": {
        "id": "LjjNqcc_cG5n"
      }
    },
    {
      "cell_type": "code",
      "source": [
        "# define the utils\n",
        "\n",
        "imagenet_mean = np.array([0.485, 0.456, 0.406])\n",
        "imagenet_std = np.array([0.229, 0.224, 0.225])\n",
        "\n",
        "def show_image(image, title=''):\n",
        "    # image is [H, W, 3]\n",
        "    assert image.shape[2] == 3\n",
        "    plt.imshow(torch.clip((image * imagenet_std + imagenet_mean) * 255, 0, 255).int())\n",
        "    plt.title(title, fontsize=16)\n",
        "    plt.axis('off')\n",
        "    return\n",
        "\n",
        "def prepare_model(chkpt_dir, arch='mae_vit_large_patch16'):\n",
        "    # build model\n",
        "    from models_mae import mae_vit_base_patch16\n",
        "    model = mae_vit_base_patch16()\n",
        "\n",
        "    # load model\n",
        "    checkpoint = torch.load(chkpt_dir, map_location='cpu')\n",
        "    msg = model.load_state_dict(checkpoint['model'], strict=False)\n",
        "    print(msg)\n",
        "    return model\n",
        "\n",
        "def run_one_image_from_aligned_image(Igray_resized_3ch, model, L=300, H=100, c=0.4):\n",
        "    \"\"\"\n",
        "    Igray_resized_3ch: imagem com 3 canais (já alinhada), shape (H, W, 3), valores já normalizados\n",
        "    model: modelo MAE do repo da Meta (Vit-base etc)\n",
        "    L, H, c: hiperparâmetros do VisionTS\n",
        "    \"\"\"\n",
        "    import numpy as np\n",
        "    import torch\n",
        "    import matplotlib.pyplot as plt\n",
        "    from skimage.transform import resize\n",
        "\n",
        "    # 1. Redimensionar para 224x224 (como esperado pelo MAE)\n",
        "    img = resize(Igray_resized_3ch, (224, 224), order=1, mode='reflect', anti_aliasing=False)\n",
        "    x = torch.tensor(img, dtype=torch.float32).unsqueeze(0)       # [1, H, W, C]\n",
        "    x = torch.einsum('nhwc->nchw', x).cuda()                      # [1, 3, 224, 224]\n",
        "\n",
        "    # 2. Criar máscara estruturada: lado direito mascarado\n",
        "    patch_size = model.patch_embed.patch_size[0]         # geralmente 16\n",
        "    num_patches_row = x.shape[2] // patch_size           # 224 / 16 = 14\n",
        "    num_patches = num_patches_row ** 2                   # 14 x 14 = 196\n",
        "\n",
        "    N = num_patches_row\n",
        "    n = int(np.floor(c * N * L / (L + H)))                # número de colunas visíveis\n",
        "\n",
        "    # Criar máscara: 0 = visível (esquerda), 1 = mascarado (direita)\n",
        "    mask = torch.ones(num_patches, device=x.device)\n",
        "    for row in range(N):\n",
        "        for col in range(n):  # colunas visíveis\n",
        "            idx = row * N + col\n",
        "            mask[idx] = 0\n",
        "    mask = mask.unsqueeze(0)  # [1, num_patches]\n",
        "\n",
        "    # 3. Forward com máscara estruturada\n",
        "    with torch.no_grad():\n",
        "        loss, y, _ = model(x.float(), mask=mask)         # usamos mask diretamente\n",
        "        y = model.unpatchify(y)                          # [1, 3, H, W]\n",
        "        y = torch.einsum('nchw->nhwc', y).cpu().numpy()\n",
        "\n",
        "        mask_recon = mask.unsqueeze(-1).repeat(1, 1, patch_size ** 2 * 3)\n",
        "        mask_recon = model.unpatchify(mask_recon)\n",
        "        mask_recon = torch.einsum('nchw->nhwc', mask_recon).cpu()\n",
        "\n",
        "    x_vis = x.cpu()\n",
        "    x_vis = torch.einsum('nchw->nhwc', x_vis)\n",
        "\n",
        "    im_masked = x_vis * (1 - mask_recon)\n",
        "    im_paste = x_vis * (1 - mask_recon) + y * mask_recon\n",
        "\n",
        "    # 4. Visualização\n",
        "    plt.rcParams['figure.figsize'] = [24, 6]\n",
        "    plt.subplot(1, 4, 1); show_image(x_vis[0], \"original\")\n",
        "    plt.subplot(1, 4, 2); show_image(im_masked[0], \"structured mask\")\n",
        "    plt.subplot(1, 4, 3); show_image(y[0], \"reconstruction\")\n",
        "    plt.subplot(1, 4, 4); show_image(im_paste[0], \"reconstruction + visible\")\n",
        "    plt.show()\n",
        "\n",
        "    return y[0]  # retorno da imagem reconstruída (H, W, 3)\n"
      ],
      "metadata": {
        "id": "5koUFBqPirM-"
      },
      "execution_count": null,
      "outputs": []
    },
    {
      "cell_type": "markdown",
      "source": [
        "Vizulização da imagem"
      ],
      "metadata": {
        "id": "rMhEYP-icP3_"
      }
    },
    {
      "cell_type": "code",
      "source": [
        "from skimage.transform import resize\n",
        "import torch\n",
        "import matplotlib.pyplot as plt\n",
        "\n",
        "# Suponha que você já tem:\n",
        "# Igray_resized_3ch com shape (29, 8, 3) — imagem com 3 canais e normalizada (VisionTS-style)\n",
        "\n",
        "# Etapa 1: Redimensionar para 224 x 224 (como esperado pelo MAE)\n",
        "img = resize(Igray_resized_3ch, (224, 224), order=1, mode='reflect', anti_aliasing=False)\n",
        "\n",
        "# Etapa 2: Visualização opcional (sem normalizar com ImageNet)\n",
        "plt.rcParams['figure.figsize'] = [5, 5]\n",
        "plt.imshow(img)\n",
        "plt.title(\"Input aligned (VisionTS)\")\n",
        "plt.axis('off')\n",
        "plt.show()\n",
        "\n",
        "# Se for usar a função run_one_image, ela espera um tensor com valores normalizados já\n",
        "# Portanto você pode usar:\n",
        "img = torch.tensor(img, dtype=torch.float32)\n"
      ],
      "metadata": {
        "colab": {
          "base_uri": "https://localhost:8080/",
          "height": 482
        },
        "id": "00z2PJZ5iyYJ",
        "outputId": "bf532a65-0f22-4497-b783-744e2f5d1e67",
        "collapsed": true
      },
      "execution_count": null,
      "outputs": [
        {
          "output_type": "stream",
          "name": "stderr",
          "text": [
            "WARNING:matplotlib.image:Clipping input data to the valid range for imshow with RGB data ([0..1] for floats or [0..255] for integers). Got range [-0.6942388950614148..0.649325593582353].\n"
          ]
        },
        {
          "output_type": "display_data",
          "data": {
            "text/plain": [
              "<Figure size 500x500 with 1 Axes>"
            ],
            "image/png": "[encoded data removed]"
          },
          "metadata": {}
        }
      ]
    },
    {
      "cell_type": "markdown",
      "source": [
        "Download dos pesos de Modelo\n"
      ],
      "metadata": {
        "id": "XPM66Pu1cY8z"
      }
    },
    {
      "cell_type": "code",
      "source": [
        "# MAE com decoder\n",
        "!wget -nc https://dl.fbaipublicfiles.com/mae/visualize/mae_visualize_vit_base.pth\n"
      ],
      "metadata": {
        "colab": {
          "base_uri": "https://localhost:8080/"
        },
        "id": "Zct5FlqgpzmX",
        "outputId": "67f08b1d-3923-455c-f93b-c40ad0bef5b0",
        "collapsed": true
      },
      "execution_count": null,
      "outputs": [
        {
          "output_type": "stream",
          "name": "stdout",
          "text": [
            "--2025-07-23 20:24:17--  https://dl.fbaipublicfiles.com/mae/visualize/mae_visualize_vit_base.pth\n",
            "Resolving dl.fbaipublicfiles.com (dl.fbaipublicfiles.com)... 13.227.219.10, 13.227.219.59, 13.227.219.70, ...\n",
            "Connecting to dl.fbaipublicfiles.com (dl.fbaipublicfiles.com)|13.227.219.10|:443... connected.\n",
            "HTTP request sent, awaiting response... 200 OK\n",
            "Length: 447725789 (427M) [binary/octet-stream]\n",
            "Saving to: ‘mae_visualize_vit_base.pth’\n",
            "\n",
            "mae_visualize_vit_b 100%[===================>] 426.98M  64.1MB/s    in 7.5s    \n",
            "\n",
            "2025-07-23 20:24:25 (57.0 MB/s) - ‘mae_visualize_vit_base.pth’ saved [447725789/447725789]\n",
            "\n"
          ]
        }
      ]
    },
    {
      "cell_type": "code",
      "source": [
        "# Carrega o modelo base\n",
        "\n",
        "from models_mae import mae_vit_base_patch16\n",
        "\n",
        "chkpt_dir = 'mae_visualize_vit_base.pth'\n",
        "model = mae_vit_base_patch16()\n",
        "checkpoint = torch.load(chkpt_dir, map_location='cpu')\n",
        "msg = model.load_state_dict(checkpoint['model'], strict=False)\n",
        "print(msg)\n",
        "\n",
        "# Enviar para GPU\n",
        "model.eval()\n",
        "model.cuda()\n",
        "\n",
        "\n"
      ],
      "metadata": {
        "colab": {
          "base_uri": "https://localhost:8080/"
        },
        "collapsed": true,
        "id": "r2Qq8iJvi4dO",
        "outputId": "7aa7d31f-c15e-492e-e1b8-02d06d4517ce"
      },
      "execution_count": null,
      "outputs": [
        {
          "output_type": "stream",
          "name": "stdout",
          "text": [
            "<All keys matched successfully>\n"
          ]
        },
        {
          "output_type": "execute_result",
          "data": {
            "text/plain": [
              "MaskedAutoencoderViT(\n",
              "  (patch_embed): PatchEmbed(\n",
              "    (proj): Conv2d(3, 768, kernel_size=(16, 16), stride=(16, 16))\n",
              "  )\n",
              "  (blocks): ModuleList(\n",
              "    (0-11): 12 x Block(\n",
              "      (norm1): LayerNorm((768,), eps=1e-06, elementwise_affine=True)\n",
              "      (attn): Attention(\n",
              "        (qkv): Linear(in_features=768, out_features=2304, bias=True)\n",
              "        (attn_drop): Dropout(p=0.0, inplace=False)\n",
              "        (proj): Linear(in_features=768, out_features=768, bias=True)\n",
              "        (proj_drop): Dropout(p=0.0, inplace=False)\n",
              "      )\n",
              "      (drop_path): Identity()\n",
              "      (norm2): LayerNorm((768,), eps=1e-06, elementwise_affine=True)\n",
              "      (mlp): Mlp(\n",
              "        (fc1): Linear(in_features=768, out_features=3072, bias=True)\n",
              "        (act): GELU(approximate='none')\n",
              "        (fc2): Linear(in_features=3072, out_features=768, bias=True)\n",
              "        (drop): Dropout(p=0.0, inplace=False)\n",
              "      )\n",
              "    )\n",
              "  )\n",
              "  (norm): LayerNorm((768,), eps=1e-06, elementwise_affine=True)\n",
              "  (decoder_embed): Linear(in_features=768, out_features=512, bias=True)\n",
              "  (decoder_blocks): ModuleList(\n",
              "    (0-7): 8 x Block(\n",
              "      (norm1): LayerNorm((512,), eps=1e-06, elementwise_affine=True)\n",
              "      (attn): Attention(\n",
              "        (qkv): Linear(in_features=512, out_features=1536, bias=True)\n",
              "        (attn_drop): Dropout(p=0.0, inplace=False)\n",
              "        (proj): Linear(in_features=512, out_features=512, bias=True)\n",
              "        (proj_drop): Dropout(p=0.0, inplace=False)\n",
              "      )\n",
              "      (drop_path): Identity()\n",
              "      (norm2): LayerNorm((512,), eps=1e-06, elementwise_affine=True)\n",
              "      (mlp): Mlp(\n",
              "        (fc1): Linear(in_features=512, out_features=2048, bias=True)\n",
              "        (act): GELU(approximate='none')\n",
              "        (fc2): Linear(in_features=2048, out_features=512, bias=True)\n",
              "        (drop): Dropout(p=0.0, inplace=False)\n",
              "      )\n",
              "    )\n",
              "  )\n",
              "  (decoder_norm): LayerNorm((512,), eps=1e-06, elementwise_affine=True)\n",
              "  (decoder_pred): Linear(in_features=512, out_features=768, bias=True)\n",
              ")"
            ]
          },
          "metadata": {},
          "execution_count": 22
        }
      ]
    },
    {
      "cell_type": "code",
      "source": [
        "\n",
        "# make random mask reproducible (comment out to make it change)\n",
        "torch.manual_seed(2)\n",
        "print('MAE with pixel reconstruction:')\n",
        "run_one_image_from_aligned_image(Igray_resized_3ch, model)"
      ],
      "metadata": {
        "colab": {
          "base_uri": "https://localhost:8080/",
          "height": 352
        },
        "id": "JmNiufmZi8Uv",
        "outputId": "d54d7f1d-5d47-468d-b891-696411c16b24",
        "collapsed": true
      },
      "execution_count": null,
      "outputs": [
        {
          "output_type": "stream",
          "name": "stdout",
          "text": [
            "MAE with pixel reconstruction:\n"
          ]
        },
        {
          "output_type": "error",
          "ename": "TypeError",
          "evalue": "MaskedAutoencoderViT.forward() got an unexpected keyword argument 'mask'",
          "traceback": [
            "\u001b[0;31m---------------------------------------------------------------------------\u001b[0m",
            "\u001b[0;31mTypeError\u001b[0m                                 Traceback (most recent call last)",
            "\u001b[0;32m/tmp/ipython-input-23-459852774.py\u001b[0m in \u001b[0;36m<cell line: 0>\u001b[0;34m()\u001b[0m\n\u001b[1;32m      2\u001b[0m \u001b[0mtorch\u001b[0m\u001b[0;34m.\u001b[0m\u001b[0mmanual_seed\u001b[0m\u001b[0;34m(\u001b[0m\u001b[0;36m2\u001b[0m\u001b[0;34m)\u001b[0m\u001b[0;34m\u001b[0m\u001b[0;34m\u001b[0m\u001b[0m\n\u001b[1;32m      3\u001b[0m \u001b[0mprint\u001b[0m\u001b[0;34m(\u001b[0m\u001b[0;34m'MAE with pixel reconstruction:'\u001b[0m\u001b[0;34m)\u001b[0m\u001b[0;34m\u001b[0m\u001b[0;34m\u001b[0m\u001b[0m\n\u001b[0;32m----> 4\u001b[0;31m \u001b[0mrun_one_image_from_aligned_image\u001b[0m\u001b[0;34m(\u001b[0m\u001b[0mIgray_resized_3ch\u001b[0m\u001b[0;34m,\u001b[0m \u001b[0mmodel\u001b[0m\u001b[0;34m)\u001b[0m\u001b[0;34m\u001b[0m\u001b[0;34m\u001b[0m\u001b[0m\n\u001b[0m",
            "\u001b[0;32m/tmp/ipython-input-20-1643983641.py\u001b[0m in \u001b[0;36mrun_one_image_from_aligned_image\u001b[0;34m(Igray_resized_3ch, model, L, H, c)\u001b[0m\n\u001b[1;32m     57\u001b[0m     \u001b[0;31m# 3. Forward com máscara estruturada\u001b[0m\u001b[0;34m\u001b[0m\u001b[0;34m\u001b[0m\u001b[0m\n\u001b[1;32m     58\u001b[0m     \u001b[0;32mwith\u001b[0m \u001b[0mtorch\u001b[0m\u001b[0;34m.\u001b[0m\u001b[0mno_grad\u001b[0m\u001b[0;34m(\u001b[0m\u001b[0;34m)\u001b[0m\u001b[0;34m:\u001b[0m\u001b[0;34m\u001b[0m\u001b[0;34m\u001b[0m\u001b[0m\n\u001b[0;32m---> 59\u001b[0;31m         \u001b[0mloss\u001b[0m\u001b[0;34m,\u001b[0m \u001b[0my\u001b[0m\u001b[0;34m,\u001b[0m \u001b[0m_\u001b[0m \u001b[0;34m=\u001b[0m \u001b[0mmodel\u001b[0m\u001b[0;34m(\u001b[0m\u001b[0mx\u001b[0m\u001b[0;34m.\u001b[0m\u001b[0mfloat\u001b[0m\u001b[0;34m(\u001b[0m\u001b[0;34m)\u001b[0m\u001b[0;34m,\u001b[0m \u001b[0mmask\u001b[0m\u001b[0;34m=\u001b[0m\u001b[0mmask\u001b[0m\u001b[0;34m)\u001b[0m         \u001b[0;31m# usamos mask diretamente\u001b[0m\u001b[0;34m\u001b[0m\u001b[0;34m\u001b[0m\u001b[0m\n\u001b[0m\u001b[1;32m     60\u001b[0m         \u001b[0my\u001b[0m \u001b[0;34m=\u001b[0m \u001b[0mmodel\u001b[0m\u001b[0;34m.\u001b[0m\u001b[0munpatchify\u001b[0m\u001b[0;34m(\u001b[0m\u001b[0my\u001b[0m\u001b[0;34m)\u001b[0m                          \u001b[0;31m# [1, 3, H, W]\u001b[0m\u001b[0;34m\u001b[0m\u001b[0;34m\u001b[0m\u001b[0m\n\u001b[1;32m     61\u001b[0m         \u001b[0my\u001b[0m \u001b[0;34m=\u001b[0m \u001b[0mtorch\u001b[0m\u001b[0;34m.\u001b[0m\u001b[0meinsum\u001b[0m\u001b[0;34m(\u001b[0m\u001b[0;34m'nchw->nhwc'\u001b[0m\u001b[0;34m,\u001b[0m \u001b[0my\u001b[0m\u001b[0;34m)\u001b[0m\u001b[0;34m.\u001b[0m\u001b[0mcpu\u001b[0m\u001b[0;34m(\u001b[0m\u001b[0;34m)\u001b[0m\u001b[0;34m.\u001b[0m\u001b[0mnumpy\u001b[0m\u001b[0;34m(\u001b[0m\u001b[0;34m)\u001b[0m\u001b[0;34m\u001b[0m\u001b[0;34m\u001b[0m\u001b[0m\n",
            "\u001b[0;32m/usr/local/lib/python3.11/dist-packages/torch/nn/modules/module.py\u001b[0m in \u001b[0;36m_wrapped_call_impl\u001b[0;34m(self, *args, **kwargs)\u001b[0m\n\u001b[1;32m   1737\u001b[0m             \u001b[0;32mreturn\u001b[0m \u001b[0mself\u001b[0m\u001b[0;34m.\u001b[0m\u001b[0m_compiled_call_impl\u001b[0m\u001b[0;34m(\u001b[0m\u001b[0;34m*\u001b[0m\u001b[0margs\u001b[0m\u001b[0;34m,\u001b[0m \u001b[0;34m**\u001b[0m\u001b[0mkwargs\u001b[0m\u001b[0;34m)\u001b[0m  \u001b[0;31m# type: ignore[misc]\u001b[0m\u001b[0;34m\u001b[0m\u001b[0;34m\u001b[0m\u001b[0m\n\u001b[1;32m   1738\u001b[0m         \u001b[0;32melse\u001b[0m\u001b[0;34m:\u001b[0m\u001b[0;34m\u001b[0m\u001b[0;34m\u001b[0m\u001b[0m\n\u001b[0;32m-> 1739\u001b[0;31m             \u001b[0;32mreturn\u001b[0m \u001b[0mself\u001b[0m\u001b[0;34m.\u001b[0m\u001b[0m_call_impl\u001b[0m\u001b[0;34m(\u001b[0m\u001b[0;34m*\u001b[0m\u001b[0margs\u001b[0m\u001b[0;34m,\u001b[0m \u001b[0;34m**\u001b[0m\u001b[0mkwargs\u001b[0m\u001b[0;34m)\u001b[0m\u001b[0;34m\u001b[0m\u001b[0;34m\u001b[0m\u001b[0m\n\u001b[0m\u001b[1;32m   1740\u001b[0m \u001b[0;34m\u001b[0m\u001b[0m\n\u001b[1;32m   1741\u001b[0m     \u001b[0;31m# torchrec tests the code consistency with the following code\u001b[0m\u001b[0;34m\u001b[0m\u001b[0;34m\u001b[0m\u001b[0m\n",
            "\u001b[0;32m/usr/local/lib/python3.11/dist-packages/torch/nn/modules/module.py\u001b[0m in \u001b[0;36m_call_impl\u001b[0;34m(self, *args, **kwargs)\u001b[0m\n\u001b[1;32m   1748\u001b[0m                 \u001b[0;32mor\u001b[0m \u001b[0m_global_backward_pre_hooks\u001b[0m \u001b[0;32mor\u001b[0m \u001b[0m_global_backward_hooks\u001b[0m\u001b[0;34m\u001b[0m\u001b[0;34m\u001b[0m\u001b[0m\n\u001b[1;32m   1749\u001b[0m                 or _global_forward_hooks or _global_forward_pre_hooks):\n\u001b[0;32m-> 1750\u001b[0;31m             \u001b[0;32mreturn\u001b[0m \u001b[0mforward_call\u001b[0m\u001b[0;34m(\u001b[0m\u001b[0;34m*\u001b[0m\u001b[0margs\u001b[0m\u001b[0;34m,\u001b[0m \u001b[0;34m**\u001b[0m\u001b[0mkwargs\u001b[0m\u001b[0;34m)\u001b[0m\u001b[0;34m\u001b[0m\u001b[0;34m\u001b[0m\u001b[0m\n\u001b[0m\u001b[1;32m   1751\u001b[0m \u001b[0;34m\u001b[0m\u001b[0m\n\u001b[1;32m   1752\u001b[0m         \u001b[0mresult\u001b[0m \u001b[0;34m=\u001b[0m \u001b[0;32mNone\u001b[0m\u001b[0;34m\u001b[0m\u001b[0;34m\u001b[0m\u001b[0m\n",
            "\u001b[0;31mTypeError\u001b[0m: MaskedAutoencoderViT.forward() got an unexpected keyword argument 'mask'"
          ]
        }
      ]
    },
    {
      "cell_type": "markdown",
      "source": [
        "Algoritmo de reconstrução, mas ele está funcionando somente com a mascara aleatória do MAE do facebook, ou seja, ele não usa o Alignment do artigo"
      ],
      "metadata": {
        "id": "K62NdTXsepgF"
      }
    },
    {
      "cell_type": "code",
      "source": [
        "def reconstruct_and_evaluate_forecast(y_reconstructed, original_Inorm, r=0.4):\n",
        "    \"\"\"\n",
        "    y_reconstructed: imagem reconstruída pelo MAE, shape (H, W, 3)\n",
        "    original_Inorm: matriz 2D usada originalmente, shape (P, L/P)\n",
        "    r: fator de normalização aplicado\n",
        "    \"\"\"\n",
        "    import numpy as np\n",
        "    from skimage.transform import resize\n",
        "    from sklearn.metrics import mean_squared_error\n",
        "\n",
        "    # Etapa 1: média dos 3 canais para obter imagem grayscale reconstruída\n",
        "    recon_gray = y_reconstructed.mean(axis=-1)  # shape (H, W)\n",
        "\n",
        "    # Etapa 2: resize reverso para shape original\n",
        "    recon_resized_back = resize(recon_gray, original_Inorm.shape, order=1, mode='reflect', anti_aliasing=False)\n",
        "\n",
        "    # Etapa 3: flatten\n",
        "    recon_flat = recon_resized_back.flatten()\n",
        "    orig_flat = original_Inorm.flatten()\n",
        "\n",
        "    # Etapa 4: desnormalizar\n",
        "    mean_orig = np.mean(orig_flat / r)\n",
        "    std_orig = np.std(orig_flat / r)\n",
        "    recon_deno = recon_flat / r\n",
        "    recon_deno = recon_deno * std_orig + mean_orig\n",
        "\n",
        "    # Etapa 5: extrair a janela de previsão\n",
        "    P, total_steps = original_Inorm.shape\n",
        "    L = 300\n",
        "    H = 100\n",
        "    pred_steps = int(H * total_steps / (L + H))  # proporcional\n",
        "    forecast_start = total_steps - pred_steps\n",
        "\n",
        "    recon_forecast = recon_deno.reshape(P, total_steps)[:, forecast_start:]\n",
        "    target_forecast = (original_Inorm / r).reshape(P, total_steps)[:, forecast_start:]\n",
        "    target_forecast = target_forecast * std_orig + mean_orig\n",
        "\n",
        "    # Etapa 6: calcular o MSE\n",
        "    mse = mean_squared_error(target_forecast.flatten(), recon_forecast.flatten())\n",
        "    print(f\"Erro médio quadrático (MSE) na janela de previsão: {mse:.6f}\")\n",
        "\n",
        "    return recon_forecast, target_forecast, mse\n"
      ],
      "metadata": {
        "id": "lqhQUHz6_o1A"
      },
      "execution_count": null,
      "outputs": []
    },
    {
      "cell_type": "code",
      "source": [],
      "metadata": {
        "id": "anmQwOITV1tj"
      },
      "execution_count": null,
      "outputs": []
    },
    {
      "cell_type": "code",
      "source": [],
      "metadata": {
        "id": "Fo-VYtugcn-J"
      },
      "execution_count": null,
      "outputs": []
    }
  ]
}